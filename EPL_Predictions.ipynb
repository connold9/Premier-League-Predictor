{
 "cells": [
  {
   "cell_type": "code",
   "execution_count": 107,
   "metadata": {},
   "outputs": [],
   "source": [
    "import pandas as pd\n",
    "import numpy as np\n",
    "import math as m\n",
    "import datetime as dt\n",
    "import matplotlib.pyplot as plt\n",
    "import copy\n",
    "from collections import Counter\n",
    "import time\n",
    "import seaborn as sns"
   ]
  },
  {
   "cell_type": "code",
   "execution_count": 2,
   "metadata": {},
   "outputs": [
    {
     "data": {
      "text/html": [
       "<div>\n",
       "<style scoped>\n",
       "    .dataframe tbody tr th:only-of-type {\n",
       "        vertical-align: middle;\n",
       "    }\n",
       "\n",
       "    .dataframe tbody tr th {\n",
       "        vertical-align: top;\n",
       "    }\n",
       "\n",
       "    .dataframe thead th {\n",
       "        text-align: right;\n",
       "    }\n",
       "</style>\n",
       "<table border=\"1\" class=\"dataframe\">\n",
       "  <thead>\n",
       "    <tr style=\"text-align: right;\">\n",
       "      <th></th>\n",
       "      <th>Played</th>\n",
       "      <th>W</th>\n",
       "      <th>D</th>\n",
       "      <th>L</th>\n",
       "      <th>GS</th>\n",
       "      <th>GA</th>\n",
       "      <th>GD</th>\n",
       "      <th>Points</th>\n",
       "    </tr>\n",
       "    <tr>\n",
       "      <th>Squad</th>\n",
       "      <th></th>\n",
       "      <th></th>\n",
       "      <th></th>\n",
       "      <th></th>\n",
       "      <th></th>\n",
       "      <th></th>\n",
       "      <th></th>\n",
       "      <th></th>\n",
       "    </tr>\n",
       "  </thead>\n",
       "  <tbody>\n",
       "    <tr>\n",
       "      <th>Liverpool</th>\n",
       "      <td>29</td>\n",
       "      <td>27</td>\n",
       "      <td>1</td>\n",
       "      <td>1</td>\n",
       "      <td>66</td>\n",
       "      <td>21</td>\n",
       "      <td>45</td>\n",
       "      <td>82</td>\n",
       "    </tr>\n",
       "    <tr>\n",
       "      <th>Manchester City</th>\n",
       "      <td>28</td>\n",
       "      <td>18</td>\n",
       "      <td>3</td>\n",
       "      <td>7</td>\n",
       "      <td>68</td>\n",
       "      <td>31</td>\n",
       "      <td>37</td>\n",
       "      <td>57</td>\n",
       "    </tr>\n",
       "    <tr>\n",
       "      <th>Leicester City</th>\n",
       "      <td>29</td>\n",
       "      <td>16</td>\n",
       "      <td>5</td>\n",
       "      <td>8</td>\n",
       "      <td>58</td>\n",
       "      <td>28</td>\n",
       "      <td>30</td>\n",
       "      <td>53</td>\n",
       "    </tr>\n",
       "    <tr>\n",
       "      <th>Chelsea</th>\n",
       "      <td>29</td>\n",
       "      <td>14</td>\n",
       "      <td>6</td>\n",
       "      <td>9</td>\n",
       "      <td>51</td>\n",
       "      <td>39</td>\n",
       "      <td>12</td>\n",
       "      <td>48</td>\n",
       "    </tr>\n",
       "    <tr>\n",
       "      <th>Manchester Utd</th>\n",
       "      <td>29</td>\n",
       "      <td>12</td>\n",
       "      <td>9</td>\n",
       "      <td>8</td>\n",
       "      <td>44</td>\n",
       "      <td>30</td>\n",
       "      <td>14</td>\n",
       "      <td>45</td>\n",
       "    </tr>\n",
       "  </tbody>\n",
       "</table>\n",
       "</div>"
      ],
      "text/plain": [
       "                 Played   W  D  L  GS  GA  GD  Points\n",
       "Squad                                                \n",
       "Liverpool            29  27  1  1  66  21  45      82\n",
       "Manchester City      28  18  3  7  68  31  37      57\n",
       "Leicester City       29  16  5  8  58  28  30      53\n",
       "Chelsea              29  14  6  9  51  39  12      48\n",
       "Manchester Utd       29  12  9  8  44  30  14      45"
      ]
     },
     "execution_count": 2,
     "metadata": {},
     "output_type": "execute_result"
    }
   ],
   "source": [
    "table = pd.read_csv('1920_table.csv')\n",
    "table.index = table.Squad\n",
    "table = table[['MP','W','D','L','GF', 'GA','GDiff','Pts']]\n",
    "table.columns = ['Played','W','D','L','GS','GA','GD','Points']\n",
    "table = table.apply(pd.to_numeric)\n",
    "table.head()"
   ]
  },
  {
   "cell_type": "code",
   "execution_count": 3,
   "metadata": {},
   "outputs": [],
   "source": [
    "stats = pd.read_csv('1920_games.csv')\n",
    "stats.Date = pd.to_datetime(stats.Date, format = '%d/%m/%Y')\n",
    "postponed_idx = np.where(pd.isna(stats.xG_H) == True)[0]\n",
    "played_idx = np.where(pd.isna(stats.xG_H) == False)[0]\n",
    "played = stats.iloc[played_idx,:]\n",
    "postponed = stats.iloc[postponed_idx,:]"
   ]
  },
  {
   "cell_type": "code",
   "execution_count": 4,
   "metadata": {},
   "outputs": [
    {
     "data": {
      "text/html": [
       "<div>\n",
       "<style scoped>\n",
       "    .dataframe tbody tr th:only-of-type {\n",
       "        vertical-align: middle;\n",
       "    }\n",
       "\n",
       "    .dataframe tbody tr th {\n",
       "        vertical-align: top;\n",
       "    }\n",
       "\n",
       "    .dataframe thead th {\n",
       "        text-align: right;\n",
       "    }\n",
       "</style>\n",
       "<table border=\"1\" class=\"dataframe\">\n",
       "  <thead>\n",
       "    <tr style=\"text-align: right;\">\n",
       "      <th></th>\n",
       "      <th>Wk</th>\n",
       "      <th>Day</th>\n",
       "      <th>Date</th>\n",
       "      <th>Time</th>\n",
       "      <th>Home</th>\n",
       "      <th>xG_H</th>\n",
       "      <th>Score</th>\n",
       "      <th>G_Home</th>\n",
       "      <th>G_Away</th>\n",
       "      <th>xG_A</th>\n",
       "      <th>Away</th>\n",
       "      <th>Attendance</th>\n",
       "      <th>Venue</th>\n",
       "    </tr>\n",
       "  </thead>\n",
       "  <tbody>\n",
       "    <tr>\n",
       "      <th>0</th>\n",
       "      <td>1</td>\n",
       "      <td>Fri</td>\n",
       "      <td>2019-08-09</td>\n",
       "      <td>20:00 (15:00)</td>\n",
       "      <td>Liverpool</td>\n",
       "      <td>1.8</td>\n",
       "      <td>4–1</td>\n",
       "      <td>4.0</td>\n",
       "      <td>1.0</td>\n",
       "      <td>1.0</td>\n",
       "      <td>Norwich City</td>\n",
       "      <td>53333.0</td>\n",
       "      <td>Anfield</td>\n",
       "    </tr>\n",
       "    <tr>\n",
       "      <th>1</th>\n",
       "      <td>1</td>\n",
       "      <td>Sat</td>\n",
       "      <td>2019-08-10</td>\n",
       "      <td>12:30 (07:30)</td>\n",
       "      <td>West Ham</td>\n",
       "      <td>0.7</td>\n",
       "      <td>0–5</td>\n",
       "      <td>0.0</td>\n",
       "      <td>5.0</td>\n",
       "      <td>3.3</td>\n",
       "      <td>Manchester City</td>\n",
       "      <td>59870.0</td>\n",
       "      <td>London Stadium</td>\n",
       "    </tr>\n",
       "    <tr>\n",
       "      <th>2</th>\n",
       "      <td>1</td>\n",
       "      <td>Sat</td>\n",
       "      <td>2019-08-10</td>\n",
       "      <td>15:00 (10:00)</td>\n",
       "      <td>Burnley</td>\n",
       "      <td>0.7</td>\n",
       "      <td>3–0</td>\n",
       "      <td>3.0</td>\n",
       "      <td>0.0</td>\n",
       "      <td>0.8</td>\n",
       "      <td>Southampton</td>\n",
       "      <td>19784.0</td>\n",
       "      <td>Turf Moor</td>\n",
       "    </tr>\n",
       "    <tr>\n",
       "      <th>3</th>\n",
       "      <td>1</td>\n",
       "      <td>Sat</td>\n",
       "      <td>2019-08-10</td>\n",
       "      <td>15:00 (10:00)</td>\n",
       "      <td>Bournemouth</td>\n",
       "      <td>1.0</td>\n",
       "      <td>1–1</td>\n",
       "      <td>1.0</td>\n",
       "      <td>1.0</td>\n",
       "      <td>1.0</td>\n",
       "      <td>Sheffield Utd</td>\n",
       "      <td>10714.0</td>\n",
       "      <td>Vitality Stadium</td>\n",
       "    </tr>\n",
       "    <tr>\n",
       "      <th>4</th>\n",
       "      <td>1</td>\n",
       "      <td>Sat</td>\n",
       "      <td>2019-08-10</td>\n",
       "      <td>15:00 (10:00)</td>\n",
       "      <td>Watford</td>\n",
       "      <td>0.9</td>\n",
       "      <td>0–3</td>\n",
       "      <td>0.0</td>\n",
       "      <td>3.0</td>\n",
       "      <td>0.7</td>\n",
       "      <td>Brighton</td>\n",
       "      <td>20245.0</td>\n",
       "      <td>Vicarage Road Stadium</td>\n",
       "    </tr>\n",
       "  </tbody>\n",
       "</table>\n",
       "</div>"
      ],
      "text/plain": [
       "   Wk  Day       Date           Time         Home  xG_H Score  G_Home  G_Away  \\\n",
       "0   1  Fri 2019-08-09  20:00 (15:00)    Liverpool   1.8   4–1     4.0     1.0   \n",
       "1   1  Sat 2019-08-10  12:30 (07:30)     West Ham   0.7   0–5     0.0     5.0   \n",
       "2   1  Sat 2019-08-10  15:00 (10:00)      Burnley   0.7   3–0     3.0     0.0   \n",
       "3   1  Sat 2019-08-10  15:00 (10:00)  Bournemouth   1.0   1–1     1.0     1.0   \n",
       "4   1  Sat 2019-08-10  15:00 (10:00)      Watford   0.9   0–3     0.0     3.0   \n",
       "\n",
       "   xG_A             Away  Attendance                  Venue  \n",
       "0   1.0     Norwich City     53333.0                Anfield  \n",
       "1   3.3  Manchester City     59870.0         London Stadium  \n",
       "2   0.8      Southampton     19784.0              Turf Moor  \n",
       "3   1.0    Sheffield Utd     10714.0       Vitality Stadium  \n",
       "4   0.7         Brighton     20245.0  Vicarage Road Stadium  "
      ]
     },
     "execution_count": 4,
     "metadata": {},
     "output_type": "execute_result"
    }
   ],
   "source": [
    "stats.head()"
   ]
  },
  {
   "cell_type": "code",
   "execution_count": 5,
   "metadata": {},
   "outputs": [
    {
     "data": {
      "text/html": [
       "<div>\n",
       "<style scoped>\n",
       "    .dataframe tbody tr th:only-of-type {\n",
       "        vertical-align: middle;\n",
       "    }\n",
       "\n",
       "    .dataframe tbody tr th {\n",
       "        vertical-align: top;\n",
       "    }\n",
       "\n",
       "    .dataframe thead th {\n",
       "        text-align: right;\n",
       "    }\n",
       "</style>\n",
       "<table border=\"1\" class=\"dataframe\">\n",
       "  <thead>\n",
       "    <tr style=\"text-align: right;\">\n",
       "      <th></th>\n",
       "      <th>Wk</th>\n",
       "      <th>Day</th>\n",
       "      <th>Date</th>\n",
       "      <th>Time</th>\n",
       "      <th>Home</th>\n",
       "      <th>xG_H</th>\n",
       "      <th>Score</th>\n",
       "      <th>G_Home</th>\n",
       "      <th>G_Away</th>\n",
       "      <th>xG_A</th>\n",
       "      <th>Away</th>\n",
       "      <th>Attendance</th>\n",
       "      <th>Venue</th>\n",
       "    </tr>\n",
       "  </thead>\n",
       "  <tbody>\n",
       "    <tr>\n",
       "      <th>274</th>\n",
       "      <td>28</td>\n",
       "      <td>Sat</td>\n",
       "      <td>2020-02-29</td>\n",
       "      <td>15:00 (10:00)</td>\n",
       "      <td>Aston Villa</td>\n",
       "      <td>NaN</td>\n",
       "      <td>NaN</td>\n",
       "      <td>NaN</td>\n",
       "      <td>NaN</td>\n",
       "      <td>NaN</td>\n",
       "      <td>Sheffield Utd</td>\n",
       "      <td>NaN</td>\n",
       "      <td>Villa Park</td>\n",
       "    </tr>\n",
       "    <tr>\n",
       "      <th>289</th>\n",
       "      <td>28</td>\n",
       "      <td>Wed</td>\n",
       "      <td>2020-03-11</td>\n",
       "      <td>19:30 (15:30)</td>\n",
       "      <td>Manchester City</td>\n",
       "      <td>NaN</td>\n",
       "      <td>NaN</td>\n",
       "      <td>NaN</td>\n",
       "      <td>NaN</td>\n",
       "      <td>NaN</td>\n",
       "      <td>Arsenal</td>\n",
       "      <td>NaN</td>\n",
       "      <td>Etihad Stadium</td>\n",
       "    </tr>\n",
       "    <tr>\n",
       "      <th>290</th>\n",
       "      <td>30</td>\n",
       "      <td>Sat</td>\n",
       "      <td>2020-03-14</td>\n",
       "      <td>12:30 (08:30)</td>\n",
       "      <td>Watford</td>\n",
       "      <td>NaN</td>\n",
       "      <td>NaN</td>\n",
       "      <td>NaN</td>\n",
       "      <td>NaN</td>\n",
       "      <td>NaN</td>\n",
       "      <td>Leicester City</td>\n",
       "      <td>NaN</td>\n",
       "      <td>Vicarage Road Stadium</td>\n",
       "    </tr>\n",
       "    <tr>\n",
       "      <th>291</th>\n",
       "      <td>30</td>\n",
       "      <td>Sat</td>\n",
       "      <td>2020-03-14</td>\n",
       "      <td>15:00 (11:00)</td>\n",
       "      <td>Bournemouth</td>\n",
       "      <td>NaN</td>\n",
       "      <td>NaN</td>\n",
       "      <td>NaN</td>\n",
       "      <td>NaN</td>\n",
       "      <td>NaN</td>\n",
       "      <td>Crystal Palace</td>\n",
       "      <td>NaN</td>\n",
       "      <td>Vitality Stadium</td>\n",
       "    </tr>\n",
       "    <tr>\n",
       "      <th>292</th>\n",
       "      <td>30</td>\n",
       "      <td>Sat</td>\n",
       "      <td>2020-03-14</td>\n",
       "      <td>15:00 (11:00)</td>\n",
       "      <td>Newcastle Utd</td>\n",
       "      <td>NaN</td>\n",
       "      <td>NaN</td>\n",
       "      <td>NaN</td>\n",
       "      <td>NaN</td>\n",
       "      <td>NaN</td>\n",
       "      <td>Sheffield Utd</td>\n",
       "      <td>NaN</td>\n",
       "      <td>St. James' Park</td>\n",
       "    </tr>\n",
       "  </tbody>\n",
       "</table>\n",
       "</div>"
      ],
      "text/plain": [
       "     Wk  Day       Date           Time             Home  xG_H Score  G_Home  \\\n",
       "274  28  Sat 2020-02-29  15:00 (10:00)      Aston Villa   NaN   NaN     NaN   \n",
       "289  28  Wed 2020-03-11  19:30 (15:30)  Manchester City   NaN   NaN     NaN   \n",
       "290  30  Sat 2020-03-14  12:30 (08:30)          Watford   NaN   NaN     NaN   \n",
       "291  30  Sat 2020-03-14  15:00 (11:00)      Bournemouth   NaN   NaN     NaN   \n",
       "292  30  Sat 2020-03-14  15:00 (11:00)    Newcastle Utd   NaN   NaN     NaN   \n",
       "\n",
       "     G_Away  xG_A            Away  Attendance                  Venue  \n",
       "274     NaN   NaN   Sheffield Utd         NaN             Villa Park  \n",
       "289     NaN   NaN         Arsenal         NaN         Etihad Stadium  \n",
       "290     NaN   NaN  Leicester City         NaN  Vicarage Road Stadium  \n",
       "291     NaN   NaN  Crystal Palace         NaN       Vitality Stadium  \n",
       "292     NaN   NaN   Sheffield Utd         NaN        St. James' Park  "
      ]
     },
     "execution_count": 5,
     "metadata": {},
     "output_type": "execute_result"
    }
   ],
   "source": [
    "postponed.head()"
   ]
  },
  {
   "cell_type": "code",
   "execution_count": 6,
   "metadata": {},
   "outputs": [],
   "source": [
    "teams = pd.unique(played.Home)"
   ]
  },
  {
   "cell_type": "code",
   "execution_count": 7,
   "metadata": {},
   "outputs": [
    {
     "name": "stderr",
     "output_type": "stream",
     "text": [
      "/anaconda3/lib/python3.7/site-packages/pandas/core/indexing.py:543: SettingWithCopyWarning: \n",
      "A value is trying to be set on a copy of a slice from a DataFrame.\n",
      "Try using .loc[row_indexer,col_indexer] = value instead\n",
      "\n",
      "See the caveats in the documentation: http://pandas.pydata.org/pandas-docs/stable/indexing.html#indexing-view-versus-copy\n",
      "  self.obj[item] = s\n"
     ]
    }
   ],
   "source": [
    "#Winsorise Goals Scored - Maximum per Game at 5. Changes no Results - Outliers\n",
    "idx = played[played.G_Home > 5].index\n",
    "played.iloc[idx, 7] = 5\n",
    "\n",
    "idx = played[played.G_Away > 5].index\n",
    "played.iloc[idx, 8] = 5"
   ]
  },
  {
   "cell_type": "code",
   "execution_count": null,
   "metadata": {},
   "outputs": [],
   "source": [
    "## New Approach - Offensive and Defensive Strength ##"
   ]
  },
  {
   "cell_type": "code",
   "execution_count": 9,
   "metadata": {},
   "outputs": [
    {
     "name": "stdout",
     "output_type": "stream",
     "text": [
      "Mean Home Scored: 1.4965277777777777\n",
      "Mean Away Scored: 1.1979166666666667\n"
     ]
    }
   ],
   "source": [
    "mean_home_scored = played.G_Home.mean()\n",
    "mean_away_scored = played.G_Away.mean()\n",
    "mean_home_conceded = played.G_Away.mean()\n",
    "mean_away_conceded = played.G_Home.mean()\n",
    "\n",
    "print('Mean Home Scored:', mean_home_scored)\n",
    "print('Mean Away Scored:', mean_away_scored)"
   ]
  },
  {
   "cell_type": "code",
   "execution_count": 10,
   "metadata": {},
   "outputs": [],
   "source": [
    "#Base Dictionaries\n",
    "team_dict = {}\n",
    "for team in teams:\n",
    "    \n",
    "    home_games = played[(played.Home == team)]\n",
    "    num_home = len(home_games)\n",
    "    home_scored_average = home_games['G_Home'].mean()\n",
    "    home_conc_average = home_games['G_Away'].mean()\n",
    "    \n",
    "    away_games = played[(played.Away == team)]\n",
    "    num_away = len(away_games)\n",
    "    away_scored_average = away_games['G_Away'].mean()\n",
    "    away_conc_average = away_games['G_Home'].mean()\n",
    "    \n",
    "    home_attacking = home_scored_average/mean_home_scored\n",
    "    home_defending = home_conc_average/mean_away_scored\n",
    "    away_attacking = away_scored_average/mean_away_scored\n",
    "    away_defending = away_conc_average/mean_home_scored\n",
    "    \n",
    "    team_dict[team] = {'Home_Attack':home_attacking,\n",
    "                      'Home_Defend':home_defending,\n",
    "                      'Away_Attack':away_attacking,\n",
    "                      'Away_Defend':away_defending}\n",
    "    "
   ]
  },
  {
   "cell_type": "code",
   "execution_count": 11,
   "metadata": {},
   "outputs": [
    {
     "data": {
      "text/plain": [
       "{'Home_Attack': 1.1582366589327147,\n",
       " 'Home_Defend': 1.1130434782608694,\n",
       " 'Away_Attack': 0.8989966555183946,\n",
       " 'Away_Defend': 0.8224165625557738}"
      ]
     },
     "execution_count": 11,
     "metadata": {},
     "output_type": "execute_result"
    }
   ],
   "source": [
    "team_dict['Arsenal']"
   ]
  },
  {
   "cell_type": "code",
   "execution_count": 12,
   "metadata": {},
   "outputs": [],
   "source": [
    "#Arteta Took Over '20/12/2019'\n",
    "#Only Updating Arsenal\n",
    "arsenal_post_dict = {}\n",
    "\n",
    "home_games = played[(played.Home == 'Arsenal')]\n",
    "away_games = played[(played.Away == 'Arsenal')]\n",
    "home_games = home_games[home_games.Date >= '20/12/2019']\n",
    "away_games = away_games[away_games.Date >= '20/12/2019']\n",
    "  \n",
    "home_scored_average = home_games['G_Home'].mean()\n",
    "home_conc_average = home_games['G_Away'].mean()\n",
    "    \n",
    "away_scored_average = away_games['G_Away'].mean()\n",
    "away_conc_average = away_games['G_Home'].mean()\n",
    "    \n",
    "home_attacking = home_scored_average/mean_home_scored\n",
    "home_defending = home_conc_average/mean_away_scored\n",
    "away_attacking = away_scored_average/mean_away_scored\n",
    "away_defending = away_conc_average/mean_home_scored\n",
    "    \n",
    "arsenal_post_dict = {'Home_Attack':home_attacking,\n",
    "                      'Home_Defend':home_defending,\n",
    "                      'Away_Attack':away_attacking,\n",
    "                      'Away_Defend':away_defending}\n"
   ]
  },
  {
   "cell_type": "code",
   "execution_count": 13,
   "metadata": {},
   "outputs": [
    {
     "data": {
      "text/plain": [
       "{'Home_Attack': 1.3364269141531324,\n",
       " 'Home_Defend': 0.6956521739130435,\n",
       " 'Away_Attack': 0.6678260869565217,\n",
       " 'Away_Defend': 0.534570765661253}"
      ]
     },
     "execution_count": 13,
     "metadata": {},
     "output_type": "execute_result"
    }
   ],
   "source": [
    "arsenal_post_dict"
   ]
  },
  {
   "cell_type": "code",
   "execution_count": 14,
   "metadata": {},
   "outputs": [],
   "source": [
    "#Updates Simulation for New Dictionary\n",
    "#If only Updating Arsenal\n",
    "team_dict_arsenal_post = copy.deepcopy(team_dict)\n",
    "team_dict_arsenal_post['Arsenal'] = arsenal_post_dict"
   ]
  },
  {
   "cell_type": "code",
   "execution_count": 15,
   "metadata": {},
   "outputs": [],
   "source": [
    "#New Team Dict - Only Recent Games\n",
    "team_dict_all_post = {}\n",
    "\n",
    "played_sub = played[played.Date >= '20/12/2019']\n",
    "mean_home_scored = played_sub.G_Home.mean()\n",
    "mean_away_scored = played_sub.G_Away.mean()\n",
    "mean_home_conceded = played_sub.G_Home.mean()\n",
    "mean_away_conceded = played_sub.G_Away.mean()\n",
    "\n",
    "for team in teams:\n",
    "    \n",
    "    home_games = played_sub[(played_sub.Home == team)]\n",
    "    home_scored_average = home_games['G_Home'].mean()\n",
    "    home_conc_average = home_games['G_Away'].mean()\n",
    "    \n",
    "    away_games = played_sub[(played_sub.Away == team)]\n",
    "    away_scored_average = away_games['G_Away'].mean()\n",
    "    away_conc_average = away_games['G_Home'].mean()\n",
    "    \n",
    "    home_attacking = home_scored_average/mean_home_scored\n",
    "    home_defending = home_conc_average/mean_away_scored\n",
    "    away_attacking = away_scored_average/mean_away_scored\n",
    "    away_defending = away_conc_average/mean_home_scored\n",
    "    \n",
    "    team_dict_all_post[team] = {'Home_Attack':home_attacking,\n",
    "                      'Home_Defend':home_defending,\n",
    "                      'Away_Attack':away_attacking,\n",
    "                      'Away_Defend':away_defending}"
   ]
  },
  {
   "cell_type": "code",
   "execution_count": 16,
   "metadata": {},
   "outputs": [
    {
     "data": {
      "text/plain": [
       "{'Home_Attack': 1.3563218390804597,\n",
       " 'Home_Defend': 0.81267217630854,\n",
       " 'Away_Attack': 0.7801652892561984,\n",
       " 'Away_Defend': 0.542528735632184}"
      ]
     },
     "execution_count": 16,
     "metadata": {},
     "output_type": "execute_result"
    }
   ],
   "source": [
    "team_dict_all_post['Arsenal']"
   ]
  },
  {
   "cell_type": "code",
   "execution_count": 17,
   "metadata": {},
   "outputs": [],
   "source": [
    "#New Team Dict - Mean and Variance - Draw from Distribution\n",
    "team_dict_distribution = {}\n",
    "\n",
    "#played_sub = played[played.Date >= '20/12/2019']\n",
    "played_sub = played\n",
    "\n",
    "mean_home_scored = played_sub.G_Home.mean()\n",
    "mean_away_scored = played_sub.G_Away.mean()\n",
    "mean_home_conceded = played_sub.G_Away.mean()\n",
    "mean_away_conceded = played_sub.G_Home.mean()\n",
    "\n",
    "team_dict_distribution['Average'] = {'Home_Attack':mean_home_scored,\n",
    "                      'Home_Defend':mean_home_conceded,\n",
    "                      'Away_Attack':mean_away_scored,\n",
    "                      'Away_Defend':mean_away_conceded}\n",
    "\n",
    "for team in teams:\n",
    "    if team == 'Arsenal':\n",
    "        played_sub = played[played.Date >= '20/12/2019']\n",
    "    else:\n",
    "        played_sub = played\n",
    "    \n",
    "    home_games = played_sub[(played_sub.Home == team)]\n",
    "    home_scored_average = home_games['G_Home'].mean()\n",
    "    home_scored_variance = home_games['G_Home'].var()\n",
    "    \n",
    "    home_conc_average = home_games['G_Away'].mean()\n",
    "    home_conc_variance = home_games['G_Away'].var()\n",
    "    \n",
    "    away_games = played_sub[(played_sub.Away == team)]\n",
    "    away_scored_average = away_games['G_Away'].mean()\n",
    "    away_scored_variance = away_games['G_Away'].var()\n",
    "    \n",
    "    away_conc_average = away_games['G_Home'].mean()\n",
    "    away_conc_variance = away_games['G_Home'].var()\n",
    "    \n",
    "    home_attacking = home_scored_average/mean_home_scored\n",
    "    home_defending = home_conc_average/mean_away_scored\n",
    "    away_attacking = away_scored_average/mean_away_scored\n",
    "    away_defending = away_conc_average/mean_home_scored\n",
    "    \n",
    "    team_dict_distribution[team] = {'Home_Attack':(home_scored_average, home_scored_variance),\n",
    "                      'Home_Defend':(home_conc_average, home_conc_variance),\n",
    "                      'Away_Attack':(away_scored_average, away_scored_variance),\n",
    "                      'Away_Defend':(away_conc_average, away_conc_variance)}"
   ]
  },
  {
   "cell_type": "code",
   "execution_count": 18,
   "metadata": {},
   "outputs": [
    {
     "data": {
      "text/plain": [
       "{'Home_Attack': (2.0, 1.6),\n",
       " 'Home_Defend': (0.8333333333333334, 0.9666666666666666),\n",
       " 'Away_Attack': (0.8, 0.7000000000000001),\n",
       " 'Away_Defend': (0.8, 0.7000000000000001)}"
      ]
     },
     "execution_count": 18,
     "metadata": {},
     "output_type": "execute_result"
    }
   ],
   "source": [
    "team_dict_distribution['Arsenal']"
   ]
  },
  {
   "cell_type": "code",
   "execution_count": 131,
   "metadata": {},
   "outputs": [],
   "source": [
    "#Base - All Teams From Start of Season\n",
    "team_dict_distribution_base = {}\n",
    "\n",
    "#played_sub = played[played.Date >= '20/12/2019']\n",
    "played_sub = played\n",
    "\n",
    "mean_home_scored = played_sub.G_Home.mean()\n",
    "mean_away_scored = played_sub.G_Away.mean()\n",
    "mean_home_conceded = played_sub.G_Away.mean()\n",
    "mean_away_conceded = played_sub.G_Home.mean()\n",
    "\n",
    "for team in teams: \n",
    "    home_games = played_sub[(played_sub.Home == team)]\n",
    "    home_scored_average = home_games['G_Home'].mean()\n",
    "    home_scored_variance = home_games['G_Home'].var()\n",
    "    \n",
    "    home_conc_average = home_games['G_Away'].mean()\n",
    "    home_conc_variance = home_games['G_Away'].var()\n",
    "    \n",
    "    away_games = played_sub[(played_sub.Away == team)]\n",
    "    away_scored_average = away_games['G_Away'].mean()\n",
    "    away_scored_variance = away_games['G_Away'].var()\n",
    "    \n",
    "    away_conc_average = away_games['G_Home'].mean()\n",
    "    away_conc_variance = away_games['G_Home'].var()\n",
    "    \n",
    "    home_attacking = home_scored_average/mean_home_scored\n",
    "    home_defending = home_conc_average/mean_away_scored\n",
    "    away_attacking = away_scored_average/mean_away_scored\n",
    "    away_defending = away_conc_average/mean_home_scored\n",
    "    \n",
    "    team_dict_distribution_base[team] = {'Home_Attack':(home_scored_average, home_scored_variance),\n",
    "                      'Home_Defend':(home_conc_average, home_conc_variance),\n",
    "                      'Away_Attack':(away_scored_average, away_scored_variance),\n",
    "                      'Away_Defend':(away_conc_average, away_conc_variance)}"
   ]
  },
  {
   "cell_type": "code",
   "execution_count": 23,
   "metadata": {},
   "outputs": [],
   "source": [
    "# See Excel for Calculation\n",
    "team_dict_distribution_new_player = copy.deepcopy(team_dict_distribution)\n",
    "defensive_improvement = 0.5301\n",
    "\n",
    "hdpp = team_dict_distribution_new_player['Arsenal']['Home_Defend'][0] / 5\n",
    "var_h = team_dict_distribution_new_player['Arsenal']['Home_Defend'][1]\n",
    "\n",
    "team_dict_distribution_new_player['Arsenal']['Home_Defend'] = (4*hdpp + defensive_improvement*hdpp, var_h)\n",
    "\n",
    "adpp = team_dict_distribution_new_player['Arsenal']['Away_Defend'][0] / 5\n",
    "var_a = team_dict_distribution_new_player['Arsenal']['Away_Defend'][1]\n",
    "team_dict_distribution_new_player['Arsenal']['Away_Defend'] = (4*adpp + defensive_improvement*adpp, var_a)"
   ]
  },
  {
   "cell_type": "code",
   "execution_count": 25,
   "metadata": {},
   "outputs": [],
   "source": [
    "def draw(dist_dict, team, metric):\n",
    "    mean_val = dist_dict[team][metric][0]\n",
    "    var_val = dist_dict[team][metric][1]\n",
    "    num = 0.75*mean_val + 0.25*np.random.normal(mean_val, np.sqrt(var_val))\n",
    "    return max(num, 0)"
   ]
  },
  {
   "cell_type": "code",
   "execution_count": 26,
   "metadata": {},
   "outputs": [
    {
     "name": "stdout",
     "output_type": "stream",
     "text": [
      "0.7523889032121527\n",
      "0.8440256434596269\n",
      "0.8125600026410664\n",
      "0.8690781437532367\n",
      "1.1296577583684118\n",
      "0.8747311887432939\n",
      "1.0218595755897733\n",
      "0.826145194124643\n",
      "0.6464943324795608\n",
      "0.702929564024481\n"
     ]
    }
   ],
   "source": [
    "for i in range(10): print(draw(team_dict_distribution, 'Arsenal', 'Away_Attack'))"
   ]
  },
  {
   "cell_type": "code",
   "execution_count": null,
   "metadata": {},
   "outputs": [],
   "source": [
    "#Home Goals = Home team attack strength * away team defence strength * average number of home goals\n",
    "#Away Goals = Away team attack strength * home team defence strength * average number of away goals\n",
    "\n",
    "#Draw from Poisson"
   ]
  },
  {
   "cell_type": "code",
   "execution_count": 27,
   "metadata": {},
   "outputs": [],
   "source": [
    "#New Match Scores Function - Disitribution\n",
    "def scores_draw(home_team, away_team, team_dict_distribution):\n",
    "    home_team_attack = draw(team_dict_distribution, home_team, 'Home_Attack') / mean_home_scored\n",
    "    home_team_defend = draw(team_dict_distribution, home_team, 'Home_Defend') / mean_home_conceded\n",
    "    away_team_attack = draw(team_dict_distribution, away_team, 'Away_Attack') / mean_away_scored\n",
    "    away_team_defend = draw(team_dict_distribution, away_team, 'Away_Defend') / mean_away_conceded\n",
    "    \n",
    "    #print('Home A/D:',home_team_attack, home_team_defend, '\\n Away A/D:', away_team_attack, away_team_defend)\n",
    "    \n",
    "    home = home_team_attack * away_team_defend * mean_home_scored\n",
    "    away = away_team_attack * home_team_defend * mean_away_scored\n",
    "    \n",
    "    home_sim = np.random.poisson(home)\n",
    "    away_sim = np.random.poisson(away)\n",
    "    \n",
    "    return home_sim,away_sim"
   ]
  },
  {
   "cell_type": "code",
   "execution_count": 28,
   "metadata": {},
   "outputs": [],
   "source": [
    "#Old Match Score Function\n",
    "def scores(home_team, away_team, team_dict):\n",
    "    home = team_dict[home_team]['Home_Attack'] * team_dict[away_team]['Away_Defend'] * mean_home_scored\n",
    "    away = team_dict[away_team]['Away_Attack'] * team_dict[home_team]['Home_Defend'] * mean_away_scored\n",
    "    \n",
    "    home_sim = np.random.poisson(home)\n",
    "    away_sim = np.random.poisson(away)\n",
    "    \n",
    "    return home_sim,away_sim"
   ]
  },
  {
   "cell_type": "code",
   "execution_count": 29,
   "metadata": {},
   "outputs": [],
   "source": [
    "def league_table(results):\n",
    "    #empty = np.zeros((20,8))\n",
    "    #new_table = pd.DataFrame(empty, columns = ['Played','W','D','L','GS','GA','GD','Points'])\n",
    "    #new_table.index = teams\n",
    "    new_table = table.copy()\n",
    "    \n",
    "    \n",
    "    for i in range(len(results)):\n",
    "        game = results.iloc[i,:]\n",
    "        if game.G_Home > game.G_Away:\n",
    "            new_table.loc[game.Home, 'Played'] += 1\n",
    "            new_table.loc[game.Home, 'W'] += 1\n",
    "            new_table.loc[game.Home, 'GS'] += game.G_Home\n",
    "            new_table.loc[game.Home, 'GA'] += game.G_Away\n",
    "            new_table.loc[game.Home, 'GD'] += game.G_Home - game.G_Away\n",
    "            new_table.loc[game.Home, 'Points'] += 3\n",
    "        \n",
    "            new_table.loc[game.Away, 'Played'] += 1\n",
    "            new_table.loc[game.Away, 'L'] += 1\n",
    "            new_table.loc[game.Away, 'GA'] += game.G_Home\n",
    "            new_table.loc[game.Away, 'GS'] += game.G_Away\n",
    "            new_table.loc[game.Away, 'GD'] += game.G_Away - game.G_Home\n",
    "        \n",
    "        elif game.G_Home < game.G_Away:\n",
    "            new_table.loc[game.Away, 'Played'] += 1\n",
    "            new_table.loc[game.Away, 'W'] += 1\n",
    "            new_table.loc[game.Away, 'GS'] += game.G_Away\n",
    "            new_table.loc[game.Away, 'GA'] += game.G_Home\n",
    "            new_table.loc[game.Away, 'GD'] += game.G_Away - game.G_Home\n",
    "            new_table.loc[game.Away, 'Points'] += 3\n",
    "        \n",
    "            new_table.loc[game.Home, 'Played'] += 1\n",
    "            new_table.loc[game.Home, 'L'] += 1\n",
    "            new_table.loc[game.Home, 'GS'] += game.G_Home\n",
    "            new_table.loc[game.Home, 'GA'] += game.G_Away\n",
    "            new_table.loc[game.Home, 'GD'] += game.G_Home - game.G_Away\n",
    "        \n",
    "        else:\n",
    "            new_table.loc[game.Away, 'Played'] += 1\n",
    "            new_table.loc[game.Away, 'D'] += 1\n",
    "            new_table.loc[game.Away, 'GS'] += game.G_Away\n",
    "            new_table.loc[game.Away, 'GA'] += game.G_Home\n",
    "            new_table.loc[game.Away, 'GD'] += game.G_Away - game.G_Home\n",
    "            new_table.loc[game.Away, 'Points'] += 1\n",
    "        \n",
    "            new_table.loc[game.Home, 'Played'] += 1\n",
    "            new_table.loc[game.Home, 'D'] += 1\n",
    "            new_table.loc[game.Home, 'GS'] += game.G_Home\n",
    "            new_table.loc[game.Home, 'GA'] += game.G_Away\n",
    "            new_table.loc[game.Home, 'GD'] += game.G_Home - game.G_Away\n",
    "            new_table.loc[game.Home, 'Points'] += 1\n",
    "    \n",
    "    return new_table\n",
    "    "
   ]
  },
  {
   "cell_type": "code",
   "execution_count": 30,
   "metadata": {},
   "outputs": [],
   "source": [
    "def league_table_full(results):\n",
    "    empty = np.zeros((20,8))\n",
    "    new_table = pd.DataFrame(empty, columns = ['Played','W','D','L','GS','GA','GD','Points'])\n",
    "    new_table.index = teams\n",
    "    #new_table = table.copy()\n",
    "    \n",
    "    \n",
    "    for i in range(len(results)):\n",
    "        game = results.iloc[i,:]\n",
    "        if game.G_Home > game.G_Away:\n",
    "            new_table.loc[game.Home, 'Played'] += 1\n",
    "            new_table.loc[game.Home, 'W'] += 1\n",
    "            new_table.loc[game.Home, 'GS'] += game.G_Home\n",
    "            new_table.loc[game.Home, 'GA'] += game.G_Away\n",
    "            new_table.loc[game.Home, 'GD'] += game.G_Home - game.G_Away\n",
    "            new_table.loc[game.Home, 'Points'] += 3\n",
    "        \n",
    "            new_table.loc[game.Away, 'Played'] += 1\n",
    "            new_table.loc[game.Away, 'L'] += 1\n",
    "            new_table.loc[game.Away, 'GA'] += game.G_Home\n",
    "            new_table.loc[game.Away, 'GS'] += game.G_Away\n",
    "            new_table.loc[game.Away, 'GD'] += game.G_Away - game.G_Home\n",
    "        \n",
    "        elif game.G_Home < game.G_Away:\n",
    "            new_table.loc[game.Away, 'Played'] += 1\n",
    "            new_table.loc[game.Away, 'W'] += 1\n",
    "            new_table.loc[game.Away, 'GS'] += game.G_Away\n",
    "            new_table.loc[game.Away, 'GA'] += game.G_Home\n",
    "            new_table.loc[game.Away, 'GD'] += game.G_Away - game.G_Home\n",
    "            new_table.loc[game.Away, 'Points'] += 3\n",
    "        \n",
    "            new_table.loc[game.Home, 'Played'] += 1\n",
    "            new_table.loc[game.Home, 'L'] += 1\n",
    "            new_table.loc[game.Home, 'GS'] += game.G_Home\n",
    "            new_table.loc[game.Home, 'GA'] += game.G_Away\n",
    "            new_table.loc[game.Home, 'GD'] += game.G_Home - game.G_Away\n",
    "        \n",
    "        else:\n",
    "            new_table.loc[game.Away, 'Played'] += 1\n",
    "            new_table.loc[game.Away, 'D'] += 1\n",
    "            new_table.loc[game.Away, 'GS'] += game.G_Away\n",
    "            new_table.loc[game.Away, 'GA'] += game.G_Home\n",
    "            new_table.loc[game.Away, 'GD'] += game.G_Away - game.G_Home\n",
    "            new_table.loc[game.Away, 'Points'] += 1\n",
    "        \n",
    "            new_table.loc[game.Home, 'Played'] += 1\n",
    "            new_table.loc[game.Home, 'D'] += 1\n",
    "            new_table.loc[game.Home, 'GS'] += game.G_Home\n",
    "            new_table.loc[game.Home, 'GA'] += game.G_Away\n",
    "            new_table.loc[game.Home, 'GD'] += game.G_Home - game.G_Away\n",
    "            new_table.loc[game.Home, 'Points'] += 1\n",
    "    \n",
    "    return new_table\n",
    "    "
   ]
  },
  {
   "cell_type": "code",
   "execution_count": 31,
   "metadata": {},
   "outputs": [],
   "source": [
    "played_bare = played[['Home','G_Home','G_Away','Away']]\n",
    "postponed_games = postponed[['Home','G_Home','G_Away','Away']]\n",
    "\n",
    "def sim_league(passed_dict):\n",
    "    n = len(postponed_games)\n",
    "    for i in range(n):\n",
    "        home_team = postponed_games.iloc[i,0]  \n",
    "        away_team = postponed_games.iloc[i,3]\n",
    "        home, away = scores(home_team, away_team, passed_dict)\n",
    "        postponed_games.iloc[i,[1,2]] = [home, away]\n",
    "    \n",
    "    final_table = league_table(postponed_games)\n",
    "    final_table = final_table.sort_values(by=['Points', 'GD'], ascending = False)\n",
    "    pos = final_table.index.get_loc('Arsenal')\n",
    "    return final_table, pos, final_table.iloc[pos, 7]\n"
   ]
  },
  {
   "cell_type": "code",
   "execution_count": 32,
   "metadata": {},
   "outputs": [],
   "source": [
    "def sim_league_draw(passed_dict):\n",
    "    n = len(postponed_games)\n",
    "    for i in range(n):\n",
    "        home_team = postponed_games.iloc[i,0]  \n",
    "        away_team = postponed_games.iloc[i,3]\n",
    "        home, away = scores_draw(home_team, away_team, passed_dict)\n",
    "        postponed_games.iloc[i,[1,2]] = [home, away]\n",
    "    \n",
    "    final_table = league_table(postponed_games)\n",
    "    final_table = final_table.sort_values(by=['Points', 'GD'], ascending = False)\n",
    "    pos = final_table.index.get_loc('Arsenal')\n",
    "    return final_table, pos, final_table.iloc[pos, 7]"
   ]
  },
  {
   "cell_type": "code",
   "execution_count": 76,
   "metadata": {},
   "outputs": [],
   "source": [
    "def sim_league_full(games, passed_dict, team):\n",
    "    n = len(games)\n",
    "    for i in range(n):\n",
    "        home_team = games.iloc[i,0]  \n",
    "        away_team = games.iloc[i,3]\n",
    "        home, away = scores_draw(home_team, away_team, passed_dict)\n",
    "        games.iloc[i,[1,2]] = [home, away]\n",
    "    \n",
    "    final_table = league_table_full(games)\n",
    "    final_table = final_table.sort_values(by=['Points', 'GD'], ascending = False)\n",
    "    pos = final_table.index.get_loc(team)\n",
    "    return final_table, pos, final_table.iloc[pos, 7]"
   ]
  },
  {
   "cell_type": "code",
   "execution_count": null,
   "metadata": {},
   "outputs": [],
   "source": [
    "### Models Available ###\n",
    "\n",
    "#1) Base Model, Full Season Data\n",
    "#2) Base Model, Arsenal Updated to Post Emery\n",
    "#3) Base Model, All Teams Post December\n",
    "\n",
    "#4) Distribution Model, Full Season Data\n",
    "#5) Distribution Model, Arsenal Updated\n",
    "\n",
    "#6a) Full Season Model, Distribution, Full Season Data\n",
    "#6b) Full Season Model, Basic, Full Season Data\n",
    "#7a) Full Season model, Distribution, Arsenal Updated\n",
    "#7b) Full Season model, Basic, Arsenal Updated\n",
    "\n",
    "#8) Added Defender - Shift Distribution on Defensive Side\n",
    "    # - How to Pick the Shift?\n",
    "    \n",
    "#Dictionaries Available\n",
    "#team_dict, team_dict_arsenal_post, team_dict_all_post, team_dict_distribution, team_dict_distribution_new_player"
   ]
  },
  {
   "cell_type": "code",
   "execution_count": 35,
   "metadata": {},
   "outputs": [
    {
     "name": "stdout",
     "output_type": "stream",
     "text": [
      "Time for 10 Loops: 46.2435 seconds\n"
     ]
    }
   ],
   "source": [
    "n = 10\n",
    "final_pos = []\n",
    "\n",
    "start_tic = time.perf_counter()\n",
    "for i in range(n):\n",
    "    _, pos, pts = sim_league_draw(team_dict_distribution_new_player)\n",
    "    final_pos.append((pos+1, pts))\n",
    "    \n",
    "end_tic = time.perf_counter()\n",
    "print(f\"Time for {n} Loops: {end_tic - start_tic:0.4f} seconds\")\n",
    "\n",
    "#1 Loop: 6.5 Seconds\n",
    "#5 Loops: 32.5 Seconds\n",
    "#10 Loops: 72.5 Seconds\n",
    "#200 Loops: 1417 Seconds (20 minutes)"
   ]
  },
  {
   "cell_type": "code",
   "execution_count": 36,
   "metadata": {},
   "outputs": [],
   "source": [
    "x,y = zip(*final_pos)"
   ]
  },
  {
   "cell_type": "code",
   "execution_count": 37,
   "metadata": {},
   "outputs": [
    {
     "data": {
      "image/png": "[encoded data removed]",
      "text/plain": [
       "<Figure size 432x288 with 1 Axes>"
      ]
     },
     "metadata": {
      "needs_background": "light"
     },
     "output_type": "display_data"
    }
   ],
   "source": [
    "y = pd.Series(y)\n",
    "y.plot.hist(grid=True, bins=10, rwidth=0.9,\n",
    "                   color='#607c8e')\n",
    "plt.title('Arsenal Finishing Points')\n",
    "plt.xlabel('Points')\n",
    "plt.ylabel('Count')\n",
    "plt.grid(axis='y', alpha=0.75)"
   ]
  },
  {
   "cell_type": "code",
   "execution_count": 38,
   "metadata": {},
   "outputs": [
    {
     "data": {
      "image/png": "[encoded data removed]",
      "text/plain": [
       "<Figure size 432x288 with 1 Axes>"
      ]
     },
     "metadata": {
      "needs_background": "light"
     },
     "output_type": "display_data"
    }
   ],
   "source": [
    "x = pd.Series(x)\n",
    "x.plot.hist(grid=True, bins=10, rwidth=0.9,\n",
    "                   color='#607c8e')\n",
    "plt.title('Arsenal Finishing Position')\n",
    "plt.xlabel('Position')\n",
    "plt.ylabel('Count')\n",
    "plt.grid(axis='y', alpha=0.5)"
   ]
  },
  {
   "cell_type": "code",
   "execution_count": 39,
   "metadata": {},
   "outputs": [
    {
     "data": {
      "text/plain": [
       "Counter({4: 1, 9: 2, 7: 2, 6: 2, 10: 1, 8: 2})"
      ]
     },
     "execution_count": 39,
     "metadata": {},
     "output_type": "execute_result"
    }
   ],
   "source": [
    "Counter(x)"
   ]
  },
  {
   "cell_type": "code",
   "execution_count": 40,
   "metadata": {},
   "outputs": [],
   "source": [
    "played_bare = played[['Home','G_Home','G_Away','Away']]\n",
    "postponed_games = postponed[['Home','G_Home','G_Away','Away']]\n",
    "all_games = pd.concat([played_bare,postponed_games])"
   ]
  },
  {
   "cell_type": "code",
   "execution_count": 132,
   "metadata": {},
   "outputs": [
    {
     "name": "stdout",
     "output_type": "stream",
     "text": [
      "Time for 250 Loops: 318.5877 seconds\n"
     ]
    }
   ],
   "source": [
    "n = 250\n",
    "final_pos_2 = []\n",
    "\n",
    "start_tic = time.perf_counter()\n",
    "for i in range(n):\n",
    "    _, pos, pts = sim_league_full(all_games, team_dict_distribution_base, 'Arsenal')\n",
    "    final_pos_2.append((pos+1, pts))\n",
    "    \n",
    "end_tic = time.perf_counter()\n",
    "print(f\"Time for {n} Loops: {end_tic - start_tic:0.4f} seconds\")"
   ]
  },
  {
   "cell_type": "code",
   "execution_count": 133,
   "metadata": {},
   "outputs": [],
   "source": [
    "x,y = zip(*final_pos_2)"
   ]
  },
  {
   "cell_type": "code",
   "execution_count": 134,
   "metadata": {},
   "outputs": [
    {
     "name": "stdout",
     "output_type": "stream",
     "text": [
      "Mean Points: 54.976\n",
      "Standard Deviation of Points: 7.945780263762647\n"
     ]
    }
   ],
   "source": [
    "print('Mean Points:', np.mean(y))\n",
    "print('Standard Deviation of Points:', np.sqrt(np.var(y)))"
   ]
  },
  {
   "cell_type": "code",
   "execution_count": 135,
   "metadata": {},
   "outputs": [
    {
     "name": "stdout",
     "output_type": "stream",
     "text": [
      "1st Place: 0\n",
      "4th or Better: 19\n",
      "5th or Better: 44\n"
     ]
    }
   ],
   "source": [
    "finish_counter = Counter(x)\n",
    "print('1st Place:', finish_counter[1])\n",
    "print('4th or Better:', finish_counter[4] + finish_counter[3] + finish_counter[2] + finish_counter[1])\n",
    "print('5th or Better:', finish_counter[4] + finish_counter[3] + finish_counter[2] + finish_counter[1] + finish_counter[5])"
   ]
  },
  {
   "cell_type": "code",
   "execution_count": 88,
   "metadata": {},
   "outputs": [
    {
     "data": {
      "text/plain": [
       "Counter({1: 192, 2: 41, 3: 12, 4: 4, 5: 1})"
      ]
     },
     "execution_count": 88,
     "metadata": {},
     "output_type": "execute_result"
    }
   ],
   "source": [
    "finish_counter"
   ]
  },
  {
   "cell_type": "code",
   "execution_count": 138,
   "metadata": {},
   "outputs": [
    {
     "data": {
      "text/plain": [
       "Text(0, 0.5, 'Proportion')"
      ]
     },
     "execution_count": 138,
     "metadata": {},
     "output_type": "execute_result"
    },
    {
     "data": {
      "image/png": "[encoded data removed]",
      "text/plain": [
       "<Figure size 432x288 with 1 Axes>"
      ]
     },
     "metadata": {},
     "output_type": "display_data"
    }
   ],
   "source": [
    "y = pd.Series(y)\n",
    "sns.set()\n",
    "sns.distplot(y, color='gray', bins = 15)\n",
    "plt.title('Arsenal Finishing Points - Base Model')\n",
    "plt.xlabel('Points')\n",
    "plt.ylabel('Proportion')\n",
    "#plt.grid(axis='y', alpha=0.5)"
   ]
  },
  {
   "cell_type": "code",
   "execution_count": 139,
   "metadata": {},
   "outputs": [
    {
     "data": {
      "text/plain": [
       "Text(0, 0.5, 'Count')"
      ]
     },
     "execution_count": 139,
     "metadata": {},
     "output_type": "execute_result"
    },
    {
     "data": {
      "image/png": "[encoded data removed]",
      "text/plain": [
       "<Figure size 432x288 with 1 Axes>"
      ]
     },
     "metadata": {},
     "output_type": "display_data"
    }
   ],
   "source": [
    "x = pd.Series(x, dtype = 'category')\n",
    "sns.countplot(x, color='gray')\n",
    "plt.title('Arsenal Finishing Position - Base Model')\n",
    "plt.xlabel('Position')\n",
    "plt.ylabel('Count')\n",
    "#plt.grid(axis='y', alpha=0.5)"
   ]
  },
  {
   "cell_type": "code",
   "execution_count": null,
   "metadata": {},
   "outputs": [],
   "source": []
  }
 ],
 "metadata": {
  "kernelspec": {
   "display_name": "Python 3",
   "language": "python",
   "name": "python3"
  },
  "language_info": {
   "codemirror_mode": {
    "name": "ipython",
    "version": 3
   },
   "file_extension": ".py",
   "mimetype": "text/x-python",
   "name": "python",
   "nbconvert_exporter": "python",
   "pygments_lexer": "ipython3",
   "version": "3.7.3"
  }
 },
 "nbformat": 4,
 "nbformat_minor": 2
}
